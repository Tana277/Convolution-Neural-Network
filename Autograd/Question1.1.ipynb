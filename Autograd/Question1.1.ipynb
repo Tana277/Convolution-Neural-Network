{
  "cells": [
    {
      "cell_type": "code",
      "execution_count": 3,
      "metadata": {
        "id": "HtRHH0xlifq4"
      },
      "outputs": [],
      "source": [
        "import torch\n",
        "import torch.nn as nn\n",
        "from torchviz import make_dot"
      ]
    },
    {
      "cell_type": "markdown",
      "metadata": {
        "id": "UycazQFDE-qE"
      },
      "source": [
        "# `Requires_grad`\n",
        "Để pytorch lưu và tính toán đạo hàm của 1 tensor, mình gán thuộc tính requires_grad = True cho tensor đó và Pytorch chỉ cho phép float tensor được gán thuộc tính requires_grad = True.\n",
        "\n",
        "Khi khởi tạo tensor thì mặc định requires_grad = False"
      ]
    },
    {
      "cell_type": "code",
      "execution_count": 4,
      "metadata": {
        "colab": {
          "base_uri": "https://localhost:8080/"
        },
        "id": "hCHeGdIUifq6",
        "outputId": "fb438e90-835c-41ee-bbba-9f5902deaada"
      },
      "outputs": [
        {
          "data": {
            "text/plain": [
              "False"
            ]
          },
          "execution_count": 4,
          "metadata": {},
          "output_type": "execute_result"
        }
      ],
      "source": [
        "a = torch.tensor([2., 3.])\n",
        "a.requires_grad"
      ]
    },
    {
      "cell_type": "code",
      "execution_count": 5,
      "metadata": {
        "id": "OzruH4PGifq7"
      },
      "outputs": [],
      "source": [
        "# Gán thuộc tính requires_grad = True\n",
        "a = torch.tensor([2., 3.], requires_grad=True)\n",
        "a.requires_grad # True\n",
        "\n",
        "# Hoặc\n",
        "a = torch.tensor([2., 3.])\n",
        "a.requires_grad = True\n"
      ]
    },
    {
      "cell_type": "markdown",
      "metadata": {
        "id": "uT2-1ez9FQzc"
      },
      "source": [
        "Thuộc tính requires_grad lây lan, tức là nếu a có requires_grad=True, thì các tensor khác được tính toán từ a, cũng sẽ có requires_grad=True."
      ]
    },
    {
      "cell_type": "code",
      "execution_count": null,
      "metadata": {
        "id": "V7goai1kifq8"
      },
      "outputs": [],
      "source": [
        "a = torch.tensor([2., 3.], requires_grad=True)\n",
        "a.requires_grad # True\n",
        "b = a**2\n",
        "c = 2*b\n",
        "print(b.requires_grad) # True\n",
        "print(c.requires_grad) # True"
      ]
    },
    {
      "cell_type": "markdown",
      "metadata": {
        "id": "AivGvjtRFaXz"
      },
      "source": [
        "Kể cả phép tính của 1 tensor có requires_grad và 1 tensor không có requires_grad thì output vẫn ra 1 tensor có requires_grad"
      ]
    },
    {
      "cell_type": "code",
      "execution_count": 6,
      "metadata": {
        "colab": {
          "base_uri": "https://localhost:8080/"
        },
        "id": "fJ9oIuACifq8",
        "outputId": "1d2f05d7-1f60-4d5c-c91a-1c4a5751ff74"
      },
      "outputs": [
        {
          "name": "stdout",
          "output_type": "stream",
          "text": [
            "True\n",
            "False\n",
            "True\n"
          ]
        }
      ],
      "source": [
        "a = torch.tensor([2., 3.], requires_grad=True)\n",
        "b = torch.tensor([1., 1.])\n",
        "\n",
        "print(a.requires_grad) # True\n",
        "print(b.requires_grad) # False\n",
        "\n",
        "c = a + b # [3., 4.]\n",
        "print(c.requires_grad) # True"
      ]
    },
    {
      "cell_type": "code",
      "execution_count": 7,
      "metadata": {
        "id": "yAp99jNhifq8"
      },
      "outputs": [],
      "source": [
        "x = torch.tensor([3])\n",
        "y = torch.tensor([10])\n",
        "a = torch.tensor([1.], requires_grad=True)\n",
        "b = torch.tensor([2.], requires_grad=True)\n",
        "\n",
        "y_hat = a*x + b\n",
        "z = y_hat - y\n",
        "L = z**2"
      ]
    },
    {
      "cell_type": "code",
      "execution_count": null,
      "metadata": {
        "id": "JiMW9VjDifq8"
      },
      "outputs": [],
      "source": [
        "print(x.is_leaf) # True\n",
        "print(a.is_leaf) # True\n",
        "print(y_hat.is_leaf) # False\n",
        "print(L.is_leaf) # False"
      ]
    },
    {
      "cell_type": "code",
      "execution_count": null,
      "metadata": {
        "id": "MCpmTCH0ifq9"
      },
      "outputs": [],
      "source": [
        "L.backward()\n",
        "\n",
        "print(a.grad) # -30\n",
        "print(b.grad) # -10"
      ]
    },
    {
      "cell_type": "markdown",
      "metadata": {
        "id": "QhO7Fxzykr0X"
      },
      "source": [
        "Các tensor không phải leaf node và có autograd = True sẽ có thuộc tính grad_fn để lưu lại phép tính thực hiện ở bước đấy, để tính chain rule ngược lại."
      ]
    },
    {
      "cell_type": "code",
      "execution_count": 8,
      "metadata": {
        "colab": {
          "base_uri": "https://localhost:8080/"
        },
        "id": "9G8n7T-Lifq9",
        "outputId": "07148446-a6a9-4f50-dd98-5e89fde020b1"
      },
      "outputs": [
        {
          "name": "stdout",
          "output_type": "stream",
          "text": [
            "None\n",
            "None\n",
            "<AddBackward0 object at 0x7f5f8a34beb0>\n",
            "<SubBackward0 object at 0x7f5f8a34bc10>\n",
            "<PowBackward0 object at 0x7f5f8a34beb0>\n"
          ]
        }
      ],
      "source": [
        "print(x.grad_fn) # None\n",
        "print(a.grad_fn) # None\n",
        "print(y_hat.grad_fn) # AddBackward0\n",
        "print(z.grad_fn) # SubBackward0\n",
        "print(L.grad_fn) # PowBackward0"
      ]
    },
    {
      "cell_type": "code",
      "execution_count": 9,
      "metadata": {
        "colab": {
          "base_uri": "https://localhost:8080/",
          "height": 546
        },
        "id": "9ibsWv21ifq9",
        "outputId": "d1bcf918-746f-43d9-f96f-ef95a44bd7fa"
      },
      "outputs": [
        {
          "data": {
            "image/svg+xml": [
              "<?xml version=\"1.0\" encoding=\"UTF-8\" standalone=\"no\"?>\n",
              "<!DOCTYPE svg PUBLIC \"-//W3C//DTD SVG 1.1//EN\"\n",
              " \"http://www.w3.org/Graphics/SVG/1.1/DTD/svg11.dtd\">\n",
              "<!-- Generated by graphviz version 2.43.0 (0)\n",
              " -->\n",
              "<!-- Title: %3 Pages: 1 -->\n",
              "<svg width=\"222pt\" height=\"393pt\"\n",
              " viewBox=\"0.00 0.00 222.00 393.00\" xmlns=\"http://www.w3.org/2000/svg\" xmlns:xlink=\"http://www.w3.org/1999/xlink\">\n",
              "<g id=\"graph0\" class=\"graph\" transform=\"scale(1 1) rotate(0) translate(4 389)\">\n",
              "<title>%3</title>\n",
              "<polygon fill=\"white\" stroke=\"transparent\" points=\"-4,4 -4,-389 218,-389 218,4 -4,4\"/>\n",
              "<!-- 140048317964400 -->\n",
              "<g id=\"node1\" class=\"node\">\n",
              "<title>140048317964400</title>\n",
              "<polygon fill=\"#caff70\" stroke=\"black\" points=\"133.5,-31 79.5,-31 79.5,0 133.5,0 133.5,-31\"/>\n",
              "<text text-anchor=\"middle\" x=\"106.5\" y=\"-7\" font-family=\"monospace\" font-size=\"10.00\"> (1)</text>\n",
              "</g>\n",
              "<!-- 140048317332352 -->\n",
              "<g id=\"node2\" class=\"node\">\n",
              "<title>140048317332352</title>\n",
              "<polygon fill=\"lightgrey\" stroke=\"black\" points=\"151,-86 62,-86 62,-67 151,-67 151,-86\"/>\n",
              "<text text-anchor=\"middle\" x=\"106.5\" y=\"-74\" font-family=\"monospace\" font-size=\"10.00\">PowBackward0</text>\n",
              "</g>\n",
              "<!-- 140048317332352&#45;&gt;140048317964400 -->\n",
              "<g id=\"edge8\" class=\"edge\">\n",
              "<title>140048317332352&#45;&gt;140048317964400</title>\n",
              "<path fill=\"none\" stroke=\"black\" d=\"M106.5,-66.79C106.5,-60.07 106.5,-50.4 106.5,-41.34\"/>\n",
              "<polygon fill=\"black\" stroke=\"black\" points=\"110,-41.19 106.5,-31.19 103,-41.19 110,-41.19\"/>\n",
              "</g>\n",
              "<!-- 140048317329808 -->\n",
              "<g id=\"node3\" class=\"node\">\n",
              "<title>140048317329808</title>\n",
              "<polygon fill=\"lightgrey\" stroke=\"black\" points=\"151,-141 62,-141 62,-122 151,-122 151,-141\"/>\n",
              "<text text-anchor=\"middle\" x=\"106.5\" y=\"-129\" font-family=\"monospace\" font-size=\"10.00\">SubBackward0</text>\n",
              "</g>\n",
              "<!-- 140048317329808&#45;&gt;140048317332352 -->\n",
              "<g id=\"edge1\" class=\"edge\">\n",
              "<title>140048317329808&#45;&gt;140048317332352</title>\n",
              "<path fill=\"none\" stroke=\"black\" d=\"M106.5,-121.75C106.5,-114.8 106.5,-104.85 106.5,-96.13\"/>\n",
              "<polygon fill=\"black\" stroke=\"black\" points=\"110,-96.09 106.5,-86.09 103,-96.09 110,-96.09\"/>\n",
              "</g>\n",
              "<!-- 140048317332640 -->\n",
              "<g id=\"node4\" class=\"node\">\n",
              "<title>140048317332640</title>\n",
              "<polygon fill=\"lightgrey\" stroke=\"black\" points=\"151,-196 62,-196 62,-177 151,-177 151,-196\"/>\n",
              "<text text-anchor=\"middle\" x=\"106.5\" y=\"-184\" font-family=\"monospace\" font-size=\"10.00\">AddBackward0</text>\n",
              "</g>\n",
              "<!-- 140048317332640&#45;&gt;140048317329808 -->\n",
              "<g id=\"edge2\" class=\"edge\">\n",
              "<title>140048317332640&#45;&gt;140048317329808</title>\n",
              "<path fill=\"none\" stroke=\"black\" d=\"M106.5,-176.75C106.5,-169.8 106.5,-159.85 106.5,-151.13\"/>\n",
              "<polygon fill=\"black\" stroke=\"black\" points=\"110,-151.09 106.5,-141.09 103,-151.09 110,-151.09\"/>\n",
              "</g>\n",
              "<!-- 140048317333264 -->\n",
              "<g id=\"node5\" class=\"node\">\n",
              "<title>140048317333264</title>\n",
              "<polygon fill=\"lightgrey\" stroke=\"black\" points=\"95,-251 6,-251 6,-232 95,-232 95,-251\"/>\n",
              "<text text-anchor=\"middle\" x=\"50.5\" y=\"-239\" font-family=\"monospace\" font-size=\"10.00\">MulBackward0</text>\n",
              "</g>\n",
              "<!-- 140048317333264&#45;&gt;140048317332640 -->\n",
              "<g id=\"edge3\" class=\"edge\">\n",
              "<title>140048317333264&#45;&gt;140048317332640</title>\n",
              "<path fill=\"none\" stroke=\"black\" d=\"M59.5,-231.98C67.69,-224.23 80.01,-212.58 89.97,-203.14\"/>\n",
              "<polygon fill=\"black\" stroke=\"black\" points=\"92.48,-205.59 97.34,-196.17 87.67,-200.5 92.48,-205.59\"/>\n",
              "</g>\n",
              "<!-- 140048317333168 -->\n",
              "<g id=\"node6\" class=\"node\">\n",
              "<title>140048317333168</title>\n",
              "<polygon fill=\"lightgrey\" stroke=\"black\" points=\"101,-312 0,-312 0,-293 101,-293 101,-312\"/>\n",
              "<text text-anchor=\"middle\" x=\"50.5\" y=\"-300\" font-family=\"monospace\" font-size=\"10.00\">AccumulateGrad</text>\n",
              "</g>\n",
              "<!-- 140048317333168&#45;&gt;140048317333264 -->\n",
              "<g id=\"edge4\" class=\"edge\">\n",
              "<title>140048317333168&#45;&gt;140048317333264</title>\n",
              "<path fill=\"none\" stroke=\"black\" d=\"M50.5,-292.79C50.5,-284.6 50.5,-272.06 50.5,-261.55\"/>\n",
              "<polygon fill=\"black\" stroke=\"black\" points=\"54,-261.24 50.5,-251.24 47,-261.24 54,-261.24\"/>\n",
              "</g>\n",
              "<!-- 140048316228016 -->\n",
              "<g id=\"node7\" class=\"node\">\n",
              "<title>140048316228016</title>\n",
              "<polygon fill=\"lightblue\" stroke=\"black\" points=\"77.5,-385 23.5,-385 23.5,-354 77.5,-354 77.5,-385\"/>\n",
              "<text text-anchor=\"middle\" x=\"50.5\" y=\"-361\" font-family=\"monospace\" font-size=\"10.00\"> (1)</text>\n",
              "</g>\n",
              "<!-- 140048316228016&#45;&gt;140048317333168 -->\n",
              "<g id=\"edge5\" class=\"edge\">\n",
              "<title>140048316228016&#45;&gt;140048317333168</title>\n",
              "<path fill=\"none\" stroke=\"black\" d=\"M50.5,-353.75C50.5,-344.39 50.5,-332.19 50.5,-322.16\"/>\n",
              "<polygon fill=\"black\" stroke=\"black\" points=\"54,-322.02 50.5,-312.02 47,-322.02 54,-322.02\"/>\n",
              "</g>\n",
              "<!-- 140048317333216 -->\n",
              "<g id=\"node8\" class=\"node\">\n",
              "<title>140048317333216</title>\n",
              "<polygon fill=\"lightgrey\" stroke=\"black\" points=\"214,-251 113,-251 113,-232 214,-232 214,-251\"/>\n",
              "<text text-anchor=\"middle\" x=\"163.5\" y=\"-239\" font-family=\"monospace\" font-size=\"10.00\">AccumulateGrad</text>\n",
              "</g>\n",
              "<!-- 140048317333216&#45;&gt;140048317332640 -->\n",
              "<g id=\"edge6\" class=\"edge\">\n",
              "<title>140048317333216&#45;&gt;140048317332640</title>\n",
              "<path fill=\"none\" stroke=\"black\" d=\"M154.34,-231.98C146,-224.23 133.47,-212.58 123.32,-203.14\"/>\n",
              "<polygon fill=\"black\" stroke=\"black\" points=\"125.53,-200.42 115.82,-196.17 120.76,-205.54 125.53,-200.42\"/>\n",
              "</g>\n",
              "<!-- 140048316228256 -->\n",
              "<g id=\"node9\" class=\"node\">\n",
              "<title>140048316228256</title>\n",
              "<polygon fill=\"lightblue\" stroke=\"black\" points=\"190.5,-318 136.5,-318 136.5,-287 190.5,-287 190.5,-318\"/>\n",
              "<text text-anchor=\"middle\" x=\"163.5\" y=\"-294\" font-family=\"monospace\" font-size=\"10.00\"> (1)</text>\n",
              "</g>\n",
              "<!-- 140048316228256&#45;&gt;140048317333216 -->\n",
              "<g id=\"edge7\" class=\"edge\">\n",
              "<title>140048316228256&#45;&gt;140048317333216</title>\n",
              "<path fill=\"none\" stroke=\"black\" d=\"M163.5,-286.92C163.5,-279.22 163.5,-269.69 163.5,-261.43\"/>\n",
              "<polygon fill=\"black\" stroke=\"black\" points=\"167,-261.25 163.5,-251.25 160,-261.25 167,-261.25\"/>\n",
              "</g>\n",
              "</g>\n",
              "</svg>\n"
            ],
            "text/plain": [
              "<graphviz.graphs.Digraph at 0x7f5f8a34bb50>"
            ]
          },
          "execution_count": 9,
          "metadata": {},
          "output_type": "execute_result"
        }
      ],
      "source": [
        "make_dot(L)"
      ]
    },
    {
      "cell_type": "markdown",
      "metadata": {
        "id": "N_3DciZm6u92"
      },
      "source": [
        "Các class MulBackward, AddBackward, SubBackward, PowBackward đều được kế thừa từ torch.Autograd.Function, trong đó có 2 hàm quan trọng:\n",
        "\n",
        "def forward(ctx, input): nhận các tensor inputs, và trả về tensor output. Biến ctx để lưu lại các tensor cần thiết trong quá trình backward (chain rule).\n",
        "\n",
        "def backward(ctx, grad_output): grad_output chứa đạo hàm của loss đến tensor ở node đấy, ctx lấy các giá trị lưu ở hàm forward để tính đạo hàm ngược qua node đó."
      ]
    },
    {
      "cell_type": "code",
      "execution_count": 10,
      "metadata": {
        "colab": {
          "base_uri": "https://localhost:8080/",
          "height": 562
        },
        "id": "oMVgp1ikwx_z",
        "outputId": "556925ea-1db7-4ab3-e917-66146bccc39c"
      },
      "outputs": [
        {
          "data": {
            "image/svg+xml": [
              "<?xml version=\"1.0\" encoding=\"UTF-8\" standalone=\"no\"?>\n",
              "<!DOCTYPE svg PUBLIC \"-//W3C//DTD SVG 1.1//EN\"\n",
              " \"http://www.w3.org/Graphics/SVG/1.1/DTD/svg11.dtd\">\n",
              "<!-- Generated by graphviz version 2.43.0 (0)\n",
              " -->\n",
              "<!-- Title: %3 Pages: 1 -->\n",
              "<svg width=\"232pt\" height=\"405pt\"\n",
              " viewBox=\"0.00 0.00 231.50 405.00\" xmlns=\"http://www.w3.org/2000/svg\" xmlns:xlink=\"http://www.w3.org/1999/xlink\">\n",
              "<g id=\"graph0\" class=\"graph\" transform=\"scale(1 1) rotate(0) translate(4 401)\">\n",
              "<title>%3</title>\n",
              "<polygon fill=\"white\" stroke=\"transparent\" points=\"-4,4 -4,-401 227.5,-401 227.5,4 -4,4\"/>\n",
              "<!-- 140048398965536 -->\n",
              "<g id=\"node1\" class=\"node\">\n",
              "<title>140048398965536</title>\n",
              "<polygon fill=\"#caff70\" stroke=\"black\" points=\"178.5,-31 124.5,-31 124.5,0 178.5,0 178.5,-31\"/>\n",
              "<text text-anchor=\"middle\" x=\"151.5\" y=\"-7\" font-family=\"monospace\" font-size=\"10.00\"> (1)</text>\n",
              "</g>\n",
              "<!-- 140048323088448 -->\n",
              "<g id=\"node2\" class=\"node\">\n",
              "<title>140048323088448</title>\n",
              "<polygon fill=\"lightgrey\" stroke=\"black\" points=\"208,-86 95,-86 95,-67 208,-67 208,-86\"/>\n",
              "<text text-anchor=\"middle\" x=\"151.5\" y=\"-74\" font-family=\"monospace\" font-size=\"10.00\">MySquareBackward</text>\n",
              "</g>\n",
              "<!-- 140048323088448&#45;&gt;140048398965536 -->\n",
              "<g id=\"edge9\" class=\"edge\">\n",
              "<title>140048323088448&#45;&gt;140048398965536</title>\n",
              "<path fill=\"none\" stroke=\"black\" d=\"M151.5,-66.79C151.5,-60.07 151.5,-50.4 151.5,-41.34\"/>\n",
              "<polygon fill=\"black\" stroke=\"black\" points=\"155,-41.19 151.5,-31.19 148,-41.19 155,-41.19\"/>\n",
              "</g>\n",
              "<!-- 140048316281184 -->\n",
              "<g id=\"node3\" class=\"node\">\n",
              "<title>140048316281184</title>\n",
              "<polygon fill=\"lightgrey\" stroke=\"black\" points=\"151,-147 62,-147 62,-128 151,-128 151,-147\"/>\n",
              "<text text-anchor=\"middle\" x=\"106.5\" y=\"-135\" font-family=\"monospace\" font-size=\"10.00\">SubBackward0</text>\n",
              "</g>\n",
              "<!-- 140048316281184&#45;&gt;140048323088448 -->\n",
              "<g id=\"edge1\" class=\"edge\">\n",
              "<title>140048316281184&#45;&gt;140048323088448</title>\n",
              "<path fill=\"none\" stroke=\"black\" d=\"M113.14,-127.79C119.85,-118.99 130.4,-105.17 138.74,-94.23\"/>\n",
              "<polygon fill=\"black\" stroke=\"black\" points=\"141.55,-96.32 144.83,-86.24 135.99,-92.07 141.55,-96.32\"/>\n",
              "</g>\n",
              "<!-- 140048316273216 -->\n",
              "<g id=\"node4\" class=\"node\">\n",
              "<title>140048316273216</title>\n",
              "<polygon fill=\"lightgrey\" stroke=\"black\" points=\"151,-208 62,-208 62,-189 151,-189 151,-208\"/>\n",
              "<text text-anchor=\"middle\" x=\"106.5\" y=\"-196\" font-family=\"monospace\" font-size=\"10.00\">AddBackward0</text>\n",
              "</g>\n",
              "<!-- 140048316273216&#45;&gt;140048316281184 -->\n",
              "<g id=\"edge2\" class=\"edge\">\n",
              "<title>140048316273216&#45;&gt;140048316281184</title>\n",
              "<path fill=\"none\" stroke=\"black\" d=\"M106.5,-188.79C106.5,-180.6 106.5,-168.06 106.5,-157.55\"/>\n",
              "<polygon fill=\"black\" stroke=\"black\" points=\"110,-157.24 106.5,-147.24 103,-157.24 110,-157.24\"/>\n",
              "</g>\n",
              "<!-- 140048316271536 -->\n",
              "<g id=\"node5\" class=\"node\">\n",
              "<title>140048316271536</title>\n",
              "<polygon fill=\"lightgrey\" stroke=\"black\" points=\"95,-263 6,-263 6,-244 95,-244 95,-263\"/>\n",
              "<text text-anchor=\"middle\" x=\"50.5\" y=\"-251\" font-family=\"monospace\" font-size=\"10.00\">MulBackward0</text>\n",
              "</g>\n",
              "<!-- 140048316271536&#45;&gt;140048316273216 -->\n",
              "<g id=\"edge3\" class=\"edge\">\n",
              "<title>140048316271536&#45;&gt;140048316273216</title>\n",
              "<path fill=\"none\" stroke=\"black\" d=\"M59.5,-243.98C67.69,-236.23 80.01,-224.58 89.97,-215.14\"/>\n",
              "<polygon fill=\"black\" stroke=\"black\" points=\"92.48,-217.59 97.34,-208.17 87.67,-212.5 92.48,-217.59\"/>\n",
              "</g>\n",
              "<!-- 140048316273120 -->\n",
              "<g id=\"node6\" class=\"node\">\n",
              "<title>140048316273120</title>\n",
              "<polygon fill=\"lightgrey\" stroke=\"black\" points=\"101,-324 0,-324 0,-305 101,-305 101,-324\"/>\n",
              "<text text-anchor=\"middle\" x=\"50.5\" y=\"-312\" font-family=\"monospace\" font-size=\"10.00\">AccumulateGrad</text>\n",
              "</g>\n",
              "<!-- 140048316273120&#45;&gt;140048316271536 -->\n",
              "<g id=\"edge4\" class=\"edge\">\n",
              "<title>140048316273120&#45;&gt;140048316271536</title>\n",
              "<path fill=\"none\" stroke=\"black\" d=\"M50.5,-304.79C50.5,-296.6 50.5,-284.06 50.5,-273.55\"/>\n",
              "<polygon fill=\"black\" stroke=\"black\" points=\"54,-273.24 50.5,-263.24 47,-273.24 54,-273.24\"/>\n",
              "</g>\n",
              "<!-- 140048316232336 -->\n",
              "<g id=\"node7\" class=\"node\">\n",
              "<title>140048316232336</title>\n",
              "<polygon fill=\"lightblue\" stroke=\"black\" points=\"77.5,-397 23.5,-397 23.5,-366 77.5,-366 77.5,-397\"/>\n",
              "<text text-anchor=\"middle\" x=\"50.5\" y=\"-373\" font-family=\"monospace\" font-size=\"10.00\"> (1)</text>\n",
              "</g>\n",
              "<!-- 140048316232336&#45;&gt;140048316273120 -->\n",
              "<g id=\"edge5\" class=\"edge\">\n",
              "<title>140048316232336&#45;&gt;140048316273120</title>\n",
              "<path fill=\"none\" stroke=\"black\" d=\"M50.5,-365.75C50.5,-356.39 50.5,-344.19 50.5,-334.16\"/>\n",
              "<polygon fill=\"black\" stroke=\"black\" points=\"54,-334.02 50.5,-324.02 47,-334.02 54,-334.02\"/>\n",
              "</g>\n",
              "<!-- 140048316273168 -->\n",
              "<g id=\"node8\" class=\"node\">\n",
              "<title>140048316273168</title>\n",
              "<polygon fill=\"lightgrey\" stroke=\"black\" points=\"214,-263 113,-263 113,-244 214,-244 214,-263\"/>\n",
              "<text text-anchor=\"middle\" x=\"163.5\" y=\"-251\" font-family=\"monospace\" font-size=\"10.00\">AccumulateGrad</text>\n",
              "</g>\n",
              "<!-- 140048316273168&#45;&gt;140048316273216 -->\n",
              "<g id=\"edge6\" class=\"edge\">\n",
              "<title>140048316273168&#45;&gt;140048316273216</title>\n",
              "<path fill=\"none\" stroke=\"black\" d=\"M154.34,-243.98C146,-236.23 133.47,-224.58 123.32,-215.14\"/>\n",
              "<polygon fill=\"black\" stroke=\"black\" points=\"125.53,-212.42 115.82,-208.17 120.76,-217.54 125.53,-212.42\"/>\n",
              "</g>\n",
              "<!-- 140048316232496 -->\n",
              "<g id=\"node9\" class=\"node\">\n",
              "<title>140048316232496</title>\n",
              "<polygon fill=\"lightblue\" stroke=\"black\" points=\"190.5,-330 136.5,-330 136.5,-299 190.5,-299 190.5,-330\"/>\n",
              "<text text-anchor=\"middle\" x=\"163.5\" y=\"-306\" font-family=\"monospace\" font-size=\"10.00\"> (1)</text>\n",
              "</g>\n",
              "<!-- 140048316232496&#45;&gt;140048316273168 -->\n",
              "<g id=\"edge7\" class=\"edge\">\n",
              "<title>140048316232496&#45;&gt;140048316273168</title>\n",
              "<path fill=\"none\" stroke=\"black\" d=\"M163.5,-298.92C163.5,-291.22 163.5,-281.69 163.5,-273.43\"/>\n",
              "<polygon fill=\"black\" stroke=\"black\" points=\"167,-273.25 163.5,-263.25 160,-273.25 167,-273.25\"/>\n",
              "</g>\n",
              "<!-- 140048318055264 -->\n",
              "<g id=\"node10\" class=\"node\">\n",
              "<title>140048318055264</title>\n",
              "<polygon fill=\"orange\" stroke=\"black\" points=\"223.5,-153 169.5,-153 169.5,-122 223.5,-122 223.5,-153\"/>\n",
              "<text text-anchor=\"middle\" x=\"196.5\" y=\"-129\" font-family=\"monospace\" font-size=\"10.00\"> (1)</text>\n",
              "</g>\n",
              "<!-- 140048318055264&#45;&gt;140048323088448 -->\n",
              "<g id=\"edge8\" class=\"edge\">\n",
              "<title>140048318055264&#45;&gt;140048323088448</title>\n",
              "<path fill=\"none\" stroke=\"black\" d=\"M185.38,-121.92C178.97,-113.52 170.9,-102.94 164.25,-94.21\"/>\n",
              "<polygon fill=\"black\" stroke=\"black\" points=\"167.02,-92.08 158.17,-86.25 161.45,-96.32 167.02,-92.08\"/>\n",
              "</g>\n",
              "</g>\n",
              "</svg>\n"
            ],
            "text/plain": [
              "<graphviz.graphs.Digraph at 0x7f5f8a2485b0>"
            ]
          },
          "execution_count": 10,
          "metadata": {},
          "output_type": "execute_result"
        }
      ],
      "source": [
        "class MySquare(torch.autograd.Function):\n",
        "\n",
        "  @staticmethod\n",
        "  def forward(ctx, input):\n",
        "    ctx.save_for_backward(input)\n",
        "    return input**2\n",
        "\n",
        "  @staticmethod\n",
        "  def backward(ctx, grad_output):\n",
        "    input, = ctx.saved_tensors\n",
        "    return 2*input*grad_output\n",
        "\n",
        "my_square = MySquare.apply\n",
        "\n",
        "x = torch.tensor([3])\n",
        "y = torch.tensor([10])\n",
        "a = torch.tensor([1.], requires_grad=True)\n",
        "b = torch.tensor([2.], requires_grad=True)\n",
        "\n",
        "y_hat = a*x + b\n",
        "z = y_hat - y\n",
        "L = my_square(z)\n",
        "make_dot(L)"
      ]
    },
    {
      "cell_type": "code",
      "execution_count": 11,
      "metadata": {
        "colab": {
          "base_uri": "https://localhost:8080/"
        },
        "id": "y2wGmcs_7mO-",
        "outputId": "59ee3e04-3f0a-4a46-8c1e-80ca0d69240f"
      },
      "outputs": [
        {
          "name": "stdout",
          "output_type": "stream",
          "text": [
            "tensor([2., 4., 2.])\n"
          ]
        }
      ],
      "source": [
        "x = torch.tensor([1., 2., 3.], requires_grad=True)\n",
        "y = 2*x + 1\n",
        "y.backward(gradient=torch.tensor([1, 2, 1]))\n",
        "\n",
        "print(x.grad)"
      ]
    },
    {
      "cell_type": "markdown",
      "metadata": {
        "id": "4pRLXlY19lNQ"
      },
      "source": [
        "![image.png](data:image/png;base64,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)"
      ]
    },
    {
      "cell_type": "markdown",
      "metadata": {
        "id": "cCJiYgnG1hl-"
      },
      "source": [
        "# `Computation Graph`"
      ]
    },
    {
      "cell_type": "markdown",
      "metadata": {
        "id": "0IImgMIu6FJt"
      },
      "source": [
        "Khi tạo graph các non-leaf node (tensor) được cấp phát bộ nhớ, context (ctx) được tạo để lưu các biến tạm cho quá trình backward. Sau đó, khi gọi backward, thì đạo hàm được tính ngược lại cho các leaf tensor và sau đó graph bị hủy, vùng nhớ lưu các non-leaf node, biến tạm trong context được giải phóng. `Do đó mình không thể backward 2 lần liên tiếp.`"
      ]
    },
    {
      "cell_type": "code",
      "execution_count": 12,
      "metadata": {
        "colab": {
          "base_uri": "https://localhost:8080/",
          "height": 373
        },
        "id": "KrA7cjnZ6Js-",
        "outputId": "d27d6b40-f429-4125-fed6-5e2dd06e1435"
      },
      "outputs": [
        {
          "name": "stdout",
          "output_type": "stream",
          "text": [
            "tensor([2., 2., 2.])\n"
          ]
        },
        {
          "ename": "RuntimeError",
          "evalue": "Trying to backward through the graph a second time (or directly access saved tensors after they have already been freed). Saved intermediate values of the graph are freed when you call .backward() or autograd.grad(). Specify retain_graph=True if you need to backward through the graph a second time or if you need to access saved tensors after calling backward.",
          "output_type": "error",
          "traceback": [
            "\u001b[0;31m---------------------------------------------------------------------------\u001b[0m",
            "\u001b[0;31mRuntimeError\u001b[0m                              Traceback (most recent call last)",
            "\u001b[0;32m<ipython-input-12-461ec67fbc63>\u001b[0m in \u001b[0;36m<cell line: 6>\u001b[0;34m()\u001b[0m\n\u001b[1;32m      4\u001b[0m \u001b[0mz\u001b[0m\u001b[0;34m.\u001b[0m\u001b[0mbackward\u001b[0m\u001b[0;34m(\u001b[0m\u001b[0;34m)\u001b[0m\u001b[0;34m\u001b[0m\u001b[0;34m\u001b[0m\u001b[0m\n\u001b[1;32m      5\u001b[0m \u001b[0mprint\u001b[0m\u001b[0;34m(\u001b[0m\u001b[0mx\u001b[0m\u001b[0;34m.\u001b[0m\u001b[0mgrad\u001b[0m\u001b[0;34m)\u001b[0m\u001b[0;34m\u001b[0m\u001b[0;34m\u001b[0m\u001b[0m\n\u001b[0;32m----> 6\u001b[0;31m \u001b[0mz\u001b[0m\u001b[0;34m.\u001b[0m\u001b[0mbackward\u001b[0m\u001b[0;34m(\u001b[0m\u001b[0;34m)\u001b[0m \u001b[0;31m# RuntimeError:\u001b[0m\u001b[0;34m\u001b[0m\u001b[0;34m\u001b[0m\u001b[0m\n\u001b[0m",
            "\u001b[0;32m/usr/local/lib/python3.10/dist-packages/torch/_tensor.py\u001b[0m in \u001b[0;36mbackward\u001b[0;34m(self, gradient, retain_graph, create_graph, inputs)\u001b[0m\n\u001b[1;32m    520\u001b[0m                 \u001b[0minputs\u001b[0m\u001b[0;34m=\u001b[0m\u001b[0minputs\u001b[0m\u001b[0;34m,\u001b[0m\u001b[0;34m\u001b[0m\u001b[0;34m\u001b[0m\u001b[0m\n\u001b[1;32m    521\u001b[0m             )\n\u001b[0;32m--> 522\u001b[0;31m         torch.autograd.backward(\n\u001b[0m\u001b[1;32m    523\u001b[0m             \u001b[0mself\u001b[0m\u001b[0;34m,\u001b[0m \u001b[0mgradient\u001b[0m\u001b[0;34m,\u001b[0m \u001b[0mretain_graph\u001b[0m\u001b[0;34m,\u001b[0m \u001b[0mcreate_graph\u001b[0m\u001b[0;34m,\u001b[0m \u001b[0minputs\u001b[0m\u001b[0;34m=\u001b[0m\u001b[0minputs\u001b[0m\u001b[0;34m\u001b[0m\u001b[0;34m\u001b[0m\u001b[0m\n\u001b[1;32m    524\u001b[0m         )\n",
            "\u001b[0;32m/usr/local/lib/python3.10/dist-packages/torch/autograd/__init__.py\u001b[0m in \u001b[0;36mbackward\u001b[0;34m(tensors, grad_tensors, retain_graph, create_graph, grad_variables, inputs)\u001b[0m\n\u001b[1;32m    264\u001b[0m     \u001b[0;31m# some Python versions print out the first line of a multi-line function\u001b[0m\u001b[0;34m\u001b[0m\u001b[0;34m\u001b[0m\u001b[0m\n\u001b[1;32m    265\u001b[0m     \u001b[0;31m# calls in the traceback and some print out the last line\u001b[0m\u001b[0;34m\u001b[0m\u001b[0;34m\u001b[0m\u001b[0m\n\u001b[0;32m--> 266\u001b[0;31m     Variable._execution_engine.run_backward(  # Calls into the C++ engine to run the backward pass\n\u001b[0m\u001b[1;32m    267\u001b[0m         \u001b[0mtensors\u001b[0m\u001b[0;34m,\u001b[0m\u001b[0;34m\u001b[0m\u001b[0;34m\u001b[0m\u001b[0m\n\u001b[1;32m    268\u001b[0m         \u001b[0mgrad_tensors_\u001b[0m\u001b[0;34m,\u001b[0m\u001b[0;34m\u001b[0m\u001b[0;34m\u001b[0m\u001b[0m\n",
            "\u001b[0;31mRuntimeError\u001b[0m: Trying to backward through the graph a second time (or directly access saved tensors after they have already been freed). Saved intermediate values of the graph are freed when you call .backward() or autograd.grad(). Specify retain_graph=True if you need to backward through the graph a second time or if you need to access saved tensors after calling backward."
          ]
        }
      ],
      "source": [
        "x = torch.tensor([1., 2., 3.], requires_grad=True)\n",
        "y = 2*x + 1\n",
        "z = sum(y)\n",
        "z.backward()\n",
        "print(x.grad)\n",
        "z.backward() # RuntimeError: Trying to backward through the graph a second time "
      ]
    },
    {
      "cell_type": "markdown",
      "metadata": {
        "id": "b14Ya3H76Pdd"
      },
      "source": [
        "Tuy nhiên khi train model DL, mình cần train nhiều epoch, mỗi epoch lại có nhiều step, nên mình cần gọi backward nhiều lần để tính đạo hàm ngược lại. Để thực hiện backward nhiều lần mình cần để thuộc tính retain_graph = True."
      ]
    },
    {
      "cell_type": "markdown",
      "metadata": {
        "id": "-XcKTbjr5uXN"
      },
      "source": [
        "Tuy nhiên khi backward nhiều lần thì đạo hàm sẽ cộng dồn vào leaf tensor"
      ]
    },
    {
      "cell_type": "code",
      "execution_count": 13,
      "metadata": {
        "colab": {
          "base_uri": "https://localhost:8080/"
        },
        "id": "BjghLJo42mVF",
        "outputId": "450387b9-a314-4572-c460-6a9e8f03e038"
      },
      "outputs": [
        {
          "name": "stdout",
          "output_type": "stream",
          "text": [
            "tensor([2., 2., 2.])\n",
            "tensor([4., 4., 4.])\n",
            "tensor([6., 6., 6.])\n",
            "tensor([0., 0., 0.])\n",
            "tensor([2., 2., 2.])\n"
          ]
        }
      ],
      "source": [
        "x = torch.tensor([1., 2., 3.], requires_grad=True)\n",
        "y = 2*x + 1\n",
        "z = sum(y)\n",
        "\n",
        "z.backward(retain_graph=True)\n",
        "print(x.grad) # Output: tensor([2., 2., 2.])\n",
        "\n",
        "z.backward(retain_graph=True)\n",
        "print(x.grad) # Output: tensor([4., 4., 4.])\n",
        "\n",
        "z.backward(retain_graph=True)\n",
        "print(x.grad) # Output: tensor([6., 6., 6.])\n",
        "\n",
        "x.grad.zero_()\n",
        "print(x.grad) # Output: tensor([0., 0., 0.])\n",
        "\n",
        "z.backward(retain_graph=True)\n",
        "print(x.grad)\n"
      ]
    },
    {
      "cell_type": "markdown",
      "metadata": {
        "id": "BDFXVBZ65pzm"
      },
      "source": [
        "Thế nên khi ở mỗi step dùng gradient descent xong thường zero_grad trước khi sang step khác."
      ]
    },
    {
      "cell_type": "markdown",
      "metadata": {
        "id": "8vKj48OJ1xlt"
      },
      "source": [
        "## Requires_grad = False\n",
        "\n",
        "Trong quá trình chạy mình cũng có thể gán requires_grad = False cho tensor, ví dụ để freeze một vài layers không cập nhật hệ số, khi đó tensor sẽ không tham gia vào computation graph."
      ]
    },
    {
      "cell_type": "code",
      "execution_count": 14,
      "metadata": {
        "colab": {
          "base_uri": "https://localhost:8080/",
          "height": 546
        },
        "id": "osj58kQBwzpU",
        "outputId": "e52bad0a-fe1a-4cdc-bbf2-94d14e0ec1c0"
      },
      "outputs": [
        {
          "data": {
            "image/svg+xml": [
              "<?xml version=\"1.0\" encoding=\"UTF-8\" standalone=\"no\"?>\n",
              "<!DOCTYPE svg PUBLIC \"-//W3C//DTD SVG 1.1//EN\"\n",
              " \"http://www.w3.org/Graphics/SVG/1.1/DTD/svg11.dtd\">\n",
              "<!-- Generated by graphviz version 2.43.0 (0)\n",
              " -->\n",
              "<!-- Title: %3 Pages: 1 -->\n",
              "<svg width=\"222pt\" height=\"393pt\"\n",
              " viewBox=\"0.00 0.00 222.00 393.00\" xmlns=\"http://www.w3.org/2000/svg\" xmlns:xlink=\"http://www.w3.org/1999/xlink\">\n",
              "<g id=\"graph0\" class=\"graph\" transform=\"scale(1 1) rotate(0) translate(4 389)\">\n",
              "<title>%3</title>\n",
              "<polygon fill=\"white\" stroke=\"transparent\" points=\"-4,4 -4,-389 218,-389 218,4 -4,4\"/>\n",
              "<!-- 140052190745824 -->\n",
              "<g id=\"node1\" class=\"node\">\n",
              "<title>140052190745824</title>\n",
              "<polygon fill=\"#caff70\" stroke=\"black\" points=\"133.5,-31 79.5,-31 79.5,0 133.5,0 133.5,-31\"/>\n",
              "<text text-anchor=\"middle\" x=\"106.5\" y=\"-7\" font-family=\"monospace\" font-size=\"10.00\"> (1)</text>\n",
              "</g>\n",
              "<!-- 140048295907664 -->\n",
              "<g id=\"node2\" class=\"node\">\n",
              "<title>140048295907664</title>\n",
              "<polygon fill=\"lightgrey\" stroke=\"black\" points=\"151,-86 62,-86 62,-67 151,-67 151,-86\"/>\n",
              "<text text-anchor=\"middle\" x=\"106.5\" y=\"-74\" font-family=\"monospace\" font-size=\"10.00\">PowBackward0</text>\n",
              "</g>\n",
              "<!-- 140048295907664&#45;&gt;140052190745824 -->\n",
              "<g id=\"edge8\" class=\"edge\">\n",
              "<title>140048295907664&#45;&gt;140052190745824</title>\n",
              "<path fill=\"none\" stroke=\"black\" d=\"M106.5,-66.79C106.5,-60.07 106.5,-50.4 106.5,-41.34\"/>\n",
              "<polygon fill=\"black\" stroke=\"black\" points=\"110,-41.19 106.5,-31.19 103,-41.19 110,-41.19\"/>\n",
              "</g>\n",
              "<!-- 140048295907712 -->\n",
              "<g id=\"node3\" class=\"node\">\n",
              "<title>140048295907712</title>\n",
              "<polygon fill=\"lightgrey\" stroke=\"black\" points=\"151,-141 62,-141 62,-122 151,-122 151,-141\"/>\n",
              "<text text-anchor=\"middle\" x=\"106.5\" y=\"-129\" font-family=\"monospace\" font-size=\"10.00\">SubBackward0</text>\n",
              "</g>\n",
              "<!-- 140048295907712&#45;&gt;140048295907664 -->\n",
              "<g id=\"edge1\" class=\"edge\">\n",
              "<title>140048295907712&#45;&gt;140048295907664</title>\n",
              "<path fill=\"none\" stroke=\"black\" d=\"M106.5,-121.75C106.5,-114.8 106.5,-104.85 106.5,-96.13\"/>\n",
              "<polygon fill=\"black\" stroke=\"black\" points=\"110,-96.09 106.5,-86.09 103,-96.09 110,-96.09\"/>\n",
              "</g>\n",
              "<!-- 140048295906992 -->\n",
              "<g id=\"node4\" class=\"node\">\n",
              "<title>140048295906992</title>\n",
              "<polygon fill=\"lightgrey\" stroke=\"black\" points=\"151,-196 62,-196 62,-177 151,-177 151,-196\"/>\n",
              "<text text-anchor=\"middle\" x=\"106.5\" y=\"-184\" font-family=\"monospace\" font-size=\"10.00\">AddBackward0</text>\n",
              "</g>\n",
              "<!-- 140048295906992&#45;&gt;140048295907712 -->\n",
              "<g id=\"edge2\" class=\"edge\">\n",
              "<title>140048295906992&#45;&gt;140048295907712</title>\n",
              "<path fill=\"none\" stroke=\"black\" d=\"M106.5,-176.75C106.5,-169.8 106.5,-159.85 106.5,-151.13\"/>\n",
              "<polygon fill=\"black\" stroke=\"black\" points=\"110,-151.09 106.5,-141.09 103,-151.09 110,-151.09\"/>\n",
              "</g>\n",
              "<!-- 140048295907136 -->\n",
              "<g id=\"node5\" class=\"node\">\n",
              "<title>140048295907136</title>\n",
              "<polygon fill=\"lightgrey\" stroke=\"black\" points=\"95,-251 6,-251 6,-232 95,-232 95,-251\"/>\n",
              "<text text-anchor=\"middle\" x=\"50.5\" y=\"-239\" font-family=\"monospace\" font-size=\"10.00\">MulBackward0</text>\n",
              "</g>\n",
              "<!-- 140048295907136&#45;&gt;140048295906992 -->\n",
              "<g id=\"edge3\" class=\"edge\">\n",
              "<title>140048295907136&#45;&gt;140048295906992</title>\n",
              "<path fill=\"none\" stroke=\"black\" d=\"M59.5,-231.98C67.69,-224.23 80.01,-212.58 89.97,-203.14\"/>\n",
              "<polygon fill=\"black\" stroke=\"black\" points=\"92.48,-205.59 97.34,-196.17 87.67,-200.5 92.48,-205.59\"/>\n",
              "</g>\n",
              "<!-- 140048295907376 -->\n",
              "<g id=\"node6\" class=\"node\">\n",
              "<title>140048295907376</title>\n",
              "<polygon fill=\"lightgrey\" stroke=\"black\" points=\"101,-312 0,-312 0,-293 101,-293 101,-312\"/>\n",
              "<text text-anchor=\"middle\" x=\"50.5\" y=\"-300\" font-family=\"monospace\" font-size=\"10.00\">AccumulateGrad</text>\n",
              "</g>\n",
              "<!-- 140048295907376&#45;&gt;140048295907136 -->\n",
              "<g id=\"edge4\" class=\"edge\">\n",
              "<title>140048295907376&#45;&gt;140048295907136</title>\n",
              "<path fill=\"none\" stroke=\"black\" d=\"M50.5,-292.79C50.5,-284.6 50.5,-272.06 50.5,-261.55\"/>\n",
              "<polygon fill=\"black\" stroke=\"black\" points=\"54,-261.24 50.5,-251.24 47,-261.24 54,-261.24\"/>\n",
              "</g>\n",
              "<!-- 140048313066624 -->\n",
              "<g id=\"node7\" class=\"node\">\n",
              "<title>140048313066624</title>\n",
              "<polygon fill=\"lightblue\" stroke=\"black\" points=\"77.5,-385 23.5,-385 23.5,-354 77.5,-354 77.5,-385\"/>\n",
              "<text text-anchor=\"middle\" x=\"50.5\" y=\"-361\" font-family=\"monospace\" font-size=\"10.00\"> (1)</text>\n",
              "</g>\n",
              "<!-- 140048313066624&#45;&gt;140048295907376 -->\n",
              "<g id=\"edge5\" class=\"edge\">\n",
              "<title>140048313066624&#45;&gt;140048295907376</title>\n",
              "<path fill=\"none\" stroke=\"black\" d=\"M50.5,-353.75C50.5,-344.39 50.5,-332.19 50.5,-322.16\"/>\n",
              "<polygon fill=\"black\" stroke=\"black\" points=\"54,-322.02 50.5,-312.02 47,-322.02 54,-322.02\"/>\n",
              "</g>\n",
              "<!-- 140048295907040 -->\n",
              "<g id=\"node8\" class=\"node\">\n",
              "<title>140048295907040</title>\n",
              "<polygon fill=\"lightgrey\" stroke=\"black\" points=\"214,-251 113,-251 113,-232 214,-232 214,-251\"/>\n",
              "<text text-anchor=\"middle\" x=\"163.5\" y=\"-239\" font-family=\"monospace\" font-size=\"10.00\">AccumulateGrad</text>\n",
              "</g>\n",
              "<!-- 140048295907040&#45;&gt;140048295906992 -->\n",
              "<g id=\"edge6\" class=\"edge\">\n",
              "<title>140048295907040&#45;&gt;140048295906992</title>\n",
              "<path fill=\"none\" stroke=\"black\" d=\"M154.34,-231.98C146,-224.23 133.47,-212.58 123.32,-203.14\"/>\n",
              "<polygon fill=\"black\" stroke=\"black\" points=\"125.53,-200.42 115.82,-196.17 120.76,-205.54 125.53,-200.42\"/>\n",
              "</g>\n",
              "<!-- 140052056889264 -->\n",
              "<g id=\"node9\" class=\"node\">\n",
              "<title>140052056889264</title>\n",
              "<polygon fill=\"lightblue\" stroke=\"black\" points=\"190.5,-318 136.5,-318 136.5,-287 190.5,-287 190.5,-318\"/>\n",
              "<text text-anchor=\"middle\" x=\"163.5\" y=\"-294\" font-family=\"monospace\" font-size=\"10.00\"> (1)</text>\n",
              "</g>\n",
              "<!-- 140052056889264&#45;&gt;140048295907040 -->\n",
              "<g id=\"edge7\" class=\"edge\">\n",
              "<title>140052056889264&#45;&gt;140048295907040</title>\n",
              "<path fill=\"none\" stroke=\"black\" d=\"M163.5,-286.92C163.5,-279.22 163.5,-269.69 163.5,-261.43\"/>\n",
              "<polygon fill=\"black\" stroke=\"black\" points=\"167,-261.25 163.5,-251.25 160,-261.25 167,-261.25\"/>\n",
              "</g>\n",
              "</g>\n",
              "</svg>\n"
            ],
            "text/plain": [
              "<graphviz.graphs.Digraph at 0x7f5f88edcb80>"
            ]
          },
          "execution_count": 14,
          "metadata": {},
          "output_type": "execute_result"
        }
      ],
      "source": [
        "x = torch.tensor([3])\n",
        "y = torch.tensor([10])\n",
        "a = torch.tensor([1.], requires_grad=True)\n",
        "b = torch.tensor([2.], requires_grad=True)\n",
        "c = a*x\n",
        "y_hat = c + b\n",
        "z = y_hat - y\n",
        "L = z**2\n",
        "make_dot(L)"
      ]
    },
    {
      "cell_type": "code",
      "execution_count": 15,
      "metadata": {
        "colab": {
          "base_uri": "https://localhost:8080/",
          "height": 456
        },
        "id": "iZk6Ui5i1poV",
        "outputId": "73a8cd15-4442-4a29-9cb9-b851c13f5eca"
      },
      "outputs": [
        {
          "data": {
            "image/svg+xml": [
              "<?xml version=\"1.0\" encoding=\"UTF-8\" standalone=\"no\"?>\n",
              "<!DOCTYPE svg PUBLIC \"-//W3C//DTD SVG 1.1//EN\"\n",
              " \"http://www.w3.org/Graphics/SVG/1.1/DTD/svg11.dtd\">\n",
              "<!-- Generated by graphviz version 2.43.0 (0)\n",
              " -->\n",
              "<!-- Title: %3 Pages: 1 -->\n",
              "<svg width=\"109pt\" height=\"326pt\"\n",
              " viewBox=\"0.00 0.00 109.00 326.00\" xmlns=\"http://www.w3.org/2000/svg\" xmlns:xlink=\"http://www.w3.org/1999/xlink\">\n",
              "<g id=\"graph0\" class=\"graph\" transform=\"scale(1 1) rotate(0) translate(4 322)\">\n",
              "<title>%3</title>\n",
              "<polygon fill=\"white\" stroke=\"transparent\" points=\"-4,4 -4,-322 105,-322 105,4 -4,4\"/>\n",
              "<!-- 140048312710176 -->\n",
              "<g id=\"node1\" class=\"node\">\n",
              "<title>140048312710176</title>\n",
              "<polygon fill=\"#caff70\" stroke=\"black\" points=\"77.5,-31 23.5,-31 23.5,0 77.5,0 77.5,-31\"/>\n",
              "<text text-anchor=\"middle\" x=\"50.5\" y=\"-7\" font-family=\"monospace\" font-size=\"10.00\"> (1)</text>\n",
              "</g>\n",
              "<!-- 140048295907184 -->\n",
              "<g id=\"node2\" class=\"node\">\n",
              "<title>140048295907184</title>\n",
              "<polygon fill=\"lightgrey\" stroke=\"black\" points=\"95,-86 6,-86 6,-67 95,-67 95,-86\"/>\n",
              "<text text-anchor=\"middle\" x=\"50.5\" y=\"-74\" font-family=\"monospace\" font-size=\"10.00\">PowBackward0</text>\n",
              "</g>\n",
              "<!-- 140048295907184&#45;&gt;140048312710176 -->\n",
              "<g id=\"edge5\" class=\"edge\">\n",
              "<title>140048295907184&#45;&gt;140048312710176</title>\n",
              "<path fill=\"none\" stroke=\"black\" d=\"M50.5,-66.79C50.5,-60.07 50.5,-50.4 50.5,-41.34\"/>\n",
              "<polygon fill=\"black\" stroke=\"black\" points=\"54,-41.19 50.5,-31.19 47,-41.19 54,-41.19\"/>\n",
              "</g>\n",
              "<!-- 140048295907280 -->\n",
              "<g id=\"node3\" class=\"node\">\n",
              "<title>140048295907280</title>\n",
              "<polygon fill=\"lightgrey\" stroke=\"black\" points=\"95,-141 6,-141 6,-122 95,-122 95,-141\"/>\n",
              "<text text-anchor=\"middle\" x=\"50.5\" y=\"-129\" font-family=\"monospace\" font-size=\"10.00\">SubBackward0</text>\n",
              "</g>\n",
              "<!-- 140048295907280&#45;&gt;140048295907184 -->\n",
              "<g id=\"edge1\" class=\"edge\">\n",
              "<title>140048295907280&#45;&gt;140048295907184</title>\n",
              "<path fill=\"none\" stroke=\"black\" d=\"M50.5,-121.75C50.5,-114.8 50.5,-104.85 50.5,-96.13\"/>\n",
              "<polygon fill=\"black\" stroke=\"black\" points=\"54,-96.09 50.5,-86.09 47,-96.09 54,-96.09\"/>\n",
              "</g>\n",
              "<!-- 140048295907232 -->\n",
              "<g id=\"node4\" class=\"node\">\n",
              "<title>140048295907232</title>\n",
              "<polygon fill=\"lightgrey\" stroke=\"black\" points=\"95,-196 6,-196 6,-177 95,-177 95,-196\"/>\n",
              "<text text-anchor=\"middle\" x=\"50.5\" y=\"-184\" font-family=\"monospace\" font-size=\"10.00\">AddBackward0</text>\n",
              "</g>\n",
              "<!-- 140048295907232&#45;&gt;140048295907280 -->\n",
              "<g id=\"edge2\" class=\"edge\">\n",
              "<title>140048295907232&#45;&gt;140048295907280</title>\n",
              "<path fill=\"none\" stroke=\"black\" d=\"M50.5,-176.75C50.5,-169.8 50.5,-159.85 50.5,-151.13\"/>\n",
              "<polygon fill=\"black\" stroke=\"black\" points=\"54,-151.09 50.5,-141.09 47,-151.09 54,-151.09\"/>\n",
              "</g>\n",
              "<!-- 140048295910640 -->\n",
              "<g id=\"node5\" class=\"node\">\n",
              "<title>140048295910640</title>\n",
              "<polygon fill=\"lightgrey\" stroke=\"black\" points=\"101,-251 0,-251 0,-232 101,-232 101,-251\"/>\n",
              "<text text-anchor=\"middle\" x=\"50.5\" y=\"-239\" font-family=\"monospace\" font-size=\"10.00\">AccumulateGrad</text>\n",
              "</g>\n",
              "<!-- 140048295910640&#45;&gt;140048295907232 -->\n",
              "<g id=\"edge3\" class=\"edge\">\n",
              "<title>140048295910640&#45;&gt;140048295907232</title>\n",
              "<path fill=\"none\" stroke=\"black\" d=\"M50.5,-231.75C50.5,-224.8 50.5,-214.85 50.5,-206.13\"/>\n",
              "<polygon fill=\"black\" stroke=\"black\" points=\"54,-206.09 50.5,-196.09 47,-206.09 54,-206.09\"/>\n",
              "</g>\n",
              "<!-- 140048313746752 -->\n",
              "<g id=\"node6\" class=\"node\">\n",
              "<title>140048313746752</title>\n",
              "<polygon fill=\"lightblue\" stroke=\"black\" points=\"77.5,-318 23.5,-318 23.5,-287 77.5,-287 77.5,-318\"/>\n",
              "<text text-anchor=\"middle\" x=\"50.5\" y=\"-294\" font-family=\"monospace\" font-size=\"10.00\"> (1)</text>\n",
              "</g>\n",
              "<!-- 140048313746752&#45;&gt;140048295910640 -->\n",
              "<g id=\"edge4\" class=\"edge\">\n",
              "<title>140048313746752&#45;&gt;140048295910640</title>\n",
              "<path fill=\"none\" stroke=\"black\" d=\"M50.5,-286.92C50.5,-279.22 50.5,-269.69 50.5,-261.43\"/>\n",
              "<polygon fill=\"black\" stroke=\"black\" points=\"54,-261.25 50.5,-251.25 47,-261.25 54,-261.25\"/>\n",
              "</g>\n",
              "</g>\n",
              "</svg>\n"
            ],
            "text/plain": [
              "<graphviz.graphs.Digraph at 0x7f5f88edce80>"
            ]
          },
          "execution_count": 15,
          "metadata": {},
          "output_type": "execute_result"
        }
      ],
      "source": [
        "x = torch.tensor([3])\n",
        "y = torch.tensor([10])\n",
        "a = torch.tensor([1.], requires_grad=True)\n",
        "a.requires_grad = False\n",
        "b = torch.tensor([2.], requires_grad=True)\n",
        "c = a*x\n",
        "y_hat = c + b\n",
        "z = y_hat - y\n",
        "L = z**2\n",
        "make_dot(L)"
      ]
    },
    {
      "cell_type": "markdown",
      "metadata": {
        "id": "BXzYaimx2XY0"
      },
      "source": [
        "khi để a.requires_grad = False, thì a và c để được bỏ ra khỏi computation graph."
      ]
    },
    {
      "cell_type": "markdown",
      "metadata": {
        "id": "4tCEdMoM1NhV"
      },
      "source": [
        "# `torch.no_grad()`\n",
        "\n",
        "Trong quá trình inference thì mình không cần đạo hàm ngược lại nên không cần lưu giá trị biến tạm ở các node, mà đơn giản chỉ tính forward bình thường. Pytorch hỗ trợ context manager torch.no_grad cho việc này, khi nào mọi người không cần dùng backward thì hãy dùng torch.no_grad để giảm thiểu bộ nhớ và tính toán. Hay hiểu đơn giản hơn thì trong context của torch.no_grad thì tất cả các tensor có thuộc tính requires_grad = False\n",
        "\n",
        "Ra ngoài context của torch.no_grad thì các thuộc tính của tensor autograd được dùng như bình thường."
      ]
    }
  ],
  "metadata": {
    "colab": {
      "provenance": []
    },
    "kernelspec": {
      "display_name": "Python 3",
      "language": "python",
      "name": "python3"
    },
    "language_info": {
      "codemirror_mode": {
        "name": "ipython",
        "version": 3
      },
      "file_extension": ".py",
      "mimetype": "text/x-python",
      "name": "python",
      "nbconvert_exporter": "python",
      "pygments_lexer": "ipython3",
      "version": "3.11.4"
    }
  },
  "nbformat": 4,
  "nbformat_minor": 0
}
